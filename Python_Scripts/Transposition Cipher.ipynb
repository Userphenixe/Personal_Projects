{
 "cells": [
  {
   "cell_type": "markdown",
   "id": "fc1b63ae",
   "metadata": {},
   "source": [
    "# Create the TranspositionCipher class"
   ]
  },
  {
   "cell_type": "code",
   "execution_count": 2,
   "id": "24484932",
   "metadata": {},
   "outputs": [],
   "source": [
    "class TranspositionCipher(object): \n",
    "        \n",
    "    def __init__(self, key):\n",
    "        self.key = key\n",
    "        self.alphabet = 'abcdefghijklmnopqrstuvwxyz'\n",
    "\n",
    "\n",
    "    def shift_amount(self, i):\n",
    "            return i % 26\n",
    "\n",
    "        \n",
    "    def encrypt_message(self, message):\n",
    "    \n",
    "        if type(message) != str:\n",
    "            print('Please enter a string')\n",
    "            return None\n",
    "        elif len(message) <= 0:\n",
    "            print('Please enter a sequence of characters')\n",
    "            return None\n",
    "        else:\n",
    "            output = ''\n",
    "            for char in message.lower():\n",
    "                if char not in self.alphabet:\n",
    "                    output += char  # Non-alphabet characters are added unchanged\n",
    "                else:\n",
    "                    index = self.alphabet.index(char) # Get the current position in the alphabet\n",
    "                    new_index = self.shift_amount(index + self.key) # Apply the shift with wrap-around\n",
    "                    output += self.alphabet[new_index] # Append shifted character to output\n",
    "        return output\n",
    "    \n",
    "    def decrypt_message(self, message):\n",
    "        if type(message) != str:\n",
    "            print('Please enter a string')\n",
    "            return None\n",
    "        elif len(message) <= 0:\n",
    "            print('Please enter a sequence of characters')\n",
    "            return None\n",
    "        else:\n",
    "            output = ''\n",
    "            for char in message:\n",
    "                if char not in self.alphabet: # type: ignore\n",
    "                    output += char  # Non-alphabet characters are added unchanged\n",
    "                else:\n",
    "                    index = self.alphabet.index(char)  # type: ignore # Get the current position in the alphabet\n",
    "                    new_index = self.shift_amount(index - self.key)  # type: ignore # Apply the shift with wrap-around\n",
    "                    output += self.alphabet[new_index]  # type: ignore # Append shifted character to output\n",
    "        return output"
   ]
  },
  {
   "cell_type": "markdown",
   "id": "addc9042",
   "metadata": {},
   "source": [
    "# Test the code by encrypting and decrypting a message"
   ]
  },
  {
   "cell_type": "code",
   "execution_count": 3,
   "id": "8c8f8aa3",
   "metadata": {},
   "outputs": [
    {
     "name": "stdout",
     "output_type": "stream",
     "text": [
      "n htskjxx fy ymjxj btwix f xmziijw ufxxji\n",
      "ymwtzlm rj. ymjwj bfx f ymwnqq ns ymj ithytw’x atnhj\n",
      "bmnhm xmtbji ymfy mj bfx mnrxjqk ijjuqd rtaji\n",
      "gd ymfy bmnhm mj ytqi zx. mtqrjx qjfsji ktwbfwi\n",
      "ns mnx jchnyjrjsy fsi mnx jdjx mfi ymj mfwi, iwd\n",
      "lqnyyjw bmnhm xmty kwtr ymjr bmjs mj bfx pjjsqd\n",
      "nsyjwjxyji.\n",
      "i confess at these words a shudder passed\n",
      "through me. there was a thrill in the doctor’s voice\n",
      "which showed that he was himself deeply moved\n",
      "by that which he told us. holmes leaned forward\n",
      "in his excitement and his eyes had the hard, dry\n",
      "glitter which shot from them when he was keenly\n",
      "interested.\n"
     ]
    }
   ],
   "source": [
    "Test_Cipher = TranspositionCipher(5)\n",
    "encrypted_message = Test_Cipher.encrypt_message('''I confess at these words a shudder passed\n",
    "through me. There was a thrill in the doctor’s voice\n",
    "which showed that he was himself deeply moved\n",
    "by that which he told us. Holmes leaned forward\n",
    "in his excitement and his eyes had the hard, dry\n",
    "glitter which shot from them when he was keenly\n",
    "interested.''')\n",
    "print(encrypted_message)\n",
    "decrypted_message = Test_Cipher.decrypt_message(encrypted_message)\n",
    "print(decrypted_message)"
   ]
  },
  {
   "cell_type": "markdown",
   "id": "2c4e8503",
   "metadata": {},
   "source": [
    "# Hack the transposition cipher (optional)"
   ]
  },
  {
   "cell_type": "code",
   "execution_count": 27,
   "id": "54134ab4",
   "metadata": {},
   "outputs": [
    {
     "name": "stdout",
     "output_type": "stream",
     "text": [
      "Shift 0: KHOOR ZRUOG\n",
      "Shift 1: JGNNQ YQTNF\n",
      "Shift 2: IFMMP XPSME\n",
      "Shift 3: HELLO WORLD\n",
      "Shift 4: GDKKN VNQKC\n",
      "Shift 5: FCJJM UMPJB\n",
      "Shift 6: EBIIL TLOIA\n",
      "Shift 7: DAHHK SKNHZ\n",
      "Shift 8: CZGGJ RJMGY\n",
      "Shift 9: BYFFI QILFX\n",
      "Shift 10: AXEEH PHKEW\n",
      "Shift 11: ZWDDG OGJDV\n",
      "Shift 12: YVCCF NFICU\n",
      "Shift 13: XUBBE MEHBT\n",
      "Shift 14: WTAAD LDGAS\n",
      "Shift 15: VSZZC KCFZR\n",
      "Shift 16: URYYB JBEYQ\n",
      "Shift 17: TQXXA IADXP\n",
      "Shift 18: SPWWZ HZCWO\n",
      "Shift 19: ROVVY GYBVN\n",
      "Shift 20: QNUUX FXAUM\n",
      "Shift 21: PMTTW EWZTL\n",
      "Shift 22: OLSSV DVYSK\n",
      "Shift 23: NKRRU CUXRJ\n",
      "Shift 24: MJQQT BTWQI\n",
      "Shift 25: LIPPS ASVPH\n"
     ]
    }
   ],
   "source": [
    "def hack_cipher(message_enc):\n",
    "    # Define a function to decrypt a Caesar cipher with a given shift\n",
    "    def decrypt_caesar(text, shift):\n",
    "        decrypted = \"\"\n",
    "        for char in text:\n",
    "            if char.isalpha():\n",
    "                # Shift the character back by 'shift' positions\n",
    "                offset = 65 if char.isupper() else 97\n",
    "                decrypted += chr((ord(char) - offset - shift) % 26 + offset)\n",
    "            else:\n",
    "                decrypted += char\n",
    "        return decrypted\n",
    "    \n",
    "    # Try all possible shifts from 0 to 25\n",
    "    for shift in range(26):\n",
    "        decrypted_message = decrypt_caesar(message_enc, shift)\n",
    "        print(f\"Shift {shift}: {decrypted_message}\")\n",
    "\n",
    "# Example usage\n",
    "message = \"KHOOR ZRUOG\"  # Caesar-encrypted message for \"HELLO WORLD\" with shift 3\n",
    "hack_cipher(message)"
   ]
  }
 ],
 "metadata": {
  "kernelspec": {
   "display_name": "Python 3",
   "language": "python",
   "name": "python3"
  },
  "language_info": {
   "codemirror_mode": {
    "name": "ipython",
    "version": 3
   },
   "file_extension": ".py",
   "mimetype": "text/x-python",
   "name": "python",
   "nbconvert_exporter": "python",
   "pygments_lexer": "ipython3",
   "version": "3.12.2"
  }
 },
 "nbformat": 4,
 "nbformat_minor": 5
}
