{
 "cells": [
  {
   "cell_type": "code",
   "execution_count": 1,
   "id": "6faece17",
   "metadata": {},
   "outputs": [],
   "source": [
    "class GameOfLife(object):\n",
    "    \"\"\"\n",
    "    A class to simulate Conway's Game of Life on a 2D grid.\n",
    "    \n",
    "    Conway's Game of Life is a cellular automaton devised by mathematician John Conway.\n",
    "    The grid evolves based on simple rules applied to each cell and its neighbors.\n",
    "\n",
    "    Attributes:\n",
    "        x_dim (int): The number of columns in the grid.\n",
    "        y_dim (int): The number of rows in the grid.\n",
    "        life_grid (list of list of int): A 2D grid representing the game state, where 0 is dead, and 1 is alive.\n",
    "    \"\"\"\n",
    "\n",
    "    def __init__(self, x_dim, y_dim):\n",
    "        \"\"\"\n",
    "        Initialize the Game of Life grid with given dimensions.\n",
    "        \n",
    "        :param x_dim: Number of columns in the grid.\n",
    "        :param y_dim: Number of rows in the grid.\n",
    "        \"\"\"\n",
    "        self.x_dim = x_dim\n",
    "        self.y_dim = y_dim\n",
    "        # Create a 2D grid filled with zeros, representing all cells as dead.\n",
    "        self.life_grid = [[0 for _ in range(self.x_dim)] for _ in range(self.y_dim)]\n",
    "\n",
    "    def get_grid(self):\n",
    "        \"\"\"\n",
    "        Retrieve the current state of the grid.\n",
    "\n",
    "        :return: A 2D list representing the grid.\n",
    "        \"\"\"\n",
    "        return self.life_grid\n",
    "\n",
    "    def print_grid(self):\n",
    "        \"\"\"\n",
    "        Print the current state of the grid in a human-readable format.\n",
    "\n",
    "        Each row is displayed on a new line with cells separated by spaces.\n",
    "        \"\"\"\n",
    "        for row in self.life_grid:\n",
    "            print(' '.join(map(str, row)))\n",
    "\n",
    "    def populate_grid(self, coord):\n",
    "        \"\"\"\n",
    "        Populate the grid with live cells at specified coordinates.\n",
    "\n",
    "        :param coord: A list of tuples [(x1, y1), (x2, y2), ...] specifying the positions of live cells.\n",
    "        :raises: A warning if any coordinate is out of bounds.\n",
    "        \"\"\"\n",
    "        for x, y in coord:\n",
    "            if 0 <= x < self.x_dim and 0 <= y < self.y_dim:  # Ensure coordinates are within bounds.\n",
    "                self.life_grid[y][x] = 1  # Set the cell to alive.\n",
    "            else:\n",
    "                print(f\"Warning: Coordinate ({x}, {y}) is out of bounds.\")\n",
    "\n",
    "    def count_neighbours(self, y, x):\n",
    "        \"\"\"\n",
    "        Count the number of live neighbors around a specific cell.\n",
    "\n",
    "        :param y: Row index of the cell.\n",
    "        :param x: Column index of the cell.\n",
    "        :return: The number of live neighbors (integer).\n",
    "        \"\"\"\n",
    "        # Define relative positions for all 8 neighbors.\n",
    "        directions = [(-1, -1), (-1, 0), (-1, 1),\n",
    "                      (0, -1),          (0, 1),\n",
    "                      (1, -1), (1, 0), (1, 1)]\n",
    "        count = 0\n",
    "        for dy, dx in directions:\n",
    "            ny, nx = y + dy, x + dx\n",
    "            # Check if the neighbor is within the bounds of the grid.\n",
    "            if 0 <= ny < self.y_dim and 0 <= nx < self.x_dim:\n",
    "                count += self.life_grid[ny][nx]\n",
    "        return count\n",
    "\n",
    "    def make_step(self):\n",
    "        \"\"\"\n",
    "        Advance the grid to the next generation using Conway's rules.\n",
    "\n",
    "        Rules:\n",
    "        1. Any live cell with fewer than two live neighbors dies (underpopulation).\n",
    "        2. Any live cell with two or three live neighbors survives.\n",
    "        3. Any live cell with more than three live neighbors dies (overpopulation).\n",
    "        4. Any dead cell with exactly three live neighbors becomes alive (reproduction).\n",
    "\n",
    "        :return: The updated grid (2D list).\n",
    "        \"\"\"\n",
    "        # Create a new grid to store the next generation.\n",
    "        new_grid = [[0 for _ in range(self.x_dim)] for _ in range(self.y_dim)]\n",
    "\n",
    "        for i in range(self.y_dim):\n",
    "            for j in range(self.x_dim):\n",
    "                # Count the live neighbors of the current cell.\n",
    "                live_neighbours = self.count_neighbours(i, j)\n",
    "\n",
    "                # Apply Conway's rules.\n",
    "                if self.life_grid[i][j] == 1:  # If the cell is alive.\n",
    "                    if live_neighbours < 2 or live_neighbours > 3:\n",
    "                        new_grid[i][j] = 0  # Cell dies.\n",
    "                    else:\n",
    "                        new_grid[i][j] = 1  # Cell survives.\n",
    "                else:  # If the cell is dead.\n",
    "                    if live_neighbours == 3:\n",
    "                        new_grid[i][j] = 1  # Cell becomes alive.\n",
    "\n",
    "        # Update the grid with the new generation.\n",
    "        self.life_grid = new_grid\n",
    "        return self.life_grid\n",
    "\n",
    "    def make_n_steps(self, n):\n",
    "        \"\"\"\n",
    "        Simulate multiple generations of the grid by applying `make_step` n times.\n",
    "\n",
    "        :param n: Number of steps (generations) to simulate.\n",
    "        :return: The final grid (2D list) after n steps.\n",
    "        \"\"\"\n",
    "        for _ in range(n):\n",
    "            self.make_step()\n",
    "        return self.life_grid\n",
    "\n",
    "    def draw_grid(self):\n",
    "        \"\"\"\n",
    "        Visualize the current state of the grid using Matplotlib.\n",
    "\n",
    "        Live cells are displayed as white squares, and dead cells are displayed as black squares.\n",
    "        \"\"\"\n",
    "        import matplotlib.pyplot as plt\n",
    "        plt.imshow(self.life_grid, cmap='binary')  # Display the grid as a binary image.\n",
    "        plt.show()"
   ]
  },
  {
   "cell_type": "code",
   "execution_count": 2,
   "id": "4c7ed061",
   "metadata": {},
   "outputs": [],
   "source": [
    "# Initialize the game with a 10x10 grid.\n",
    "game = GameOfLife(10, 10)"
   ]
  },
  {
   "cell_type": "code",
   "execution_count": 3,
   "id": "7eb46b76",
   "metadata": {},
   "outputs": [],
   "source": [
    "# Populate the grid with a \"blinker\" pattern.\n",
    "game.populate_grid([(1, 2), (2, 2), (3, 2)])"
   ]
  },
  {
   "cell_type": "code",
   "execution_count": 4,
   "id": "3537d916",
   "metadata": {},
   "outputs": [
    {
     "name": "stdout",
     "output_type": "stream",
     "text": [
      "Initial grid:\n",
      "0 0 0 0 0 0 0 0 0 0\n",
      "0 0 0 0 0 0 0 0 0 0\n",
      "0 1 1 1 0 0 0 0 0 0\n",
      "0 0 0 0 0 0 0 0 0 0\n",
      "0 0 0 0 0 0 0 0 0 0\n",
      "0 0 0 0 0 0 0 0 0 0\n",
      "0 0 0 0 0 0 0 0 0 0\n",
      "0 0 0 0 0 0 0 0 0 0\n",
      "0 0 0 0 0 0 0 0 0 0\n",
      "0 0 0 0 0 0 0 0 0 0\n"
     ]
    }
   ],
   "source": [
    "# Print the initial grid.\n",
    "print(\"Initial grid:\")\n",
    "game.print_grid()"
   ]
  },
  {
   "cell_type": "code",
   "execution_count": 5,
   "id": "ef992cca",
   "metadata": {},
   "outputs": [
    {
     "name": "stdout",
     "output_type": "stream",
     "text": [
      "\n",
      "After 1 step:\n",
      "0 0 0 0 0 0 0 0 0 0\n",
      "0 0 1 0 0 0 0 0 0 0\n",
      "0 0 1 0 0 0 0 0 0 0\n",
      "0 0 1 0 0 0 0 0 0 0\n",
      "0 0 0 0 0 0 0 0 0 0\n",
      "0 0 0 0 0 0 0 0 0 0\n",
      "0 0 0 0 0 0 0 0 0 0\n",
      "0 0 0 0 0 0 0 0 0 0\n",
      "0 0 0 0 0 0 0 0 0 0\n",
      "0 0 0 0 0 0 0 0 0 0\n"
     ]
    }
   ],
   "source": [
    "# Simulate one generation.\n",
    "game.make_step()\n",
    "print(\"\\nAfter 1 step:\")\n",
    "game.print_grid()"
   ]
  },
  {
   "cell_type": "code",
   "execution_count": 6,
   "id": "217ce9ab",
   "metadata": {},
   "outputs": [
    {
     "data": {
      "image/png": "[encoded data removed]",
      "text/plain": [
       "<Figure size 640x480 with 1 Axes>"
      ]
     },
     "metadata": {},
     "output_type": "display_data"
    }
   ],
   "source": [
    "# Visualize the current state of the grid.\n",
    "game.draw_grid()"
   ]
  },
  {
   "cell_type": "code",
   "execution_count": 7,
   "id": "6c7ac76a",
   "metadata": {},
   "outputs": [
    {
     "name": "stdout",
     "output_type": "stream",
     "text": [
      "\n",
      "After 5 more steps:\n",
      "0 0 0 0 0 0 0 0 0 0\n",
      "0 0 0 0 0 0 0 0 0 0\n",
      "0 1 1 1 0 0 0 0 0 0\n",
      "0 0 0 0 0 0 0 0 0 0\n",
      "0 0 0 0 0 0 0 0 0 0\n",
      "0 0 0 0 0 0 0 0 0 0\n",
      "0 0 0 0 0 0 0 0 0 0\n",
      "0 0 0 0 0 0 0 0 0 0\n",
      "0 0 0 0 0 0 0 0 0 0\n",
      "0 0 0 0 0 0 0 0 0 0\n"
     ]
    }
   ],
   "source": [
    "# Simulate 5 more generations.\n",
    "game.make_n_steps(5)\n",
    "print(\"\\nAfter 5 more steps:\")\n",
    "game.print_grid()"
   ]
  },
  {
   "cell_type": "code",
   "execution_count": 8,
   "id": "b8abea47",
   "metadata": {},
   "outputs": [
    {
     "data": {
      "image/png": "[encoded data removed]",
      "text/plain": [
       "<Figure size 640x480 with 1 Axes>"
      ]
     },
     "metadata": {},
     "output_type": "display_data"
    }
   ],
   "source": [
    "# Visualize the final state of the grid.\n",
    "game.draw_grid()"
   ]
  }
 ],
 "metadata": {
  "kernelspec": {
   "display_name": "Python 3",
   "language": "python",
   "name": "python3"
  },
  "language_info": {
   "codemirror_mode": {
    "name": "ipython",
    "version": 3
   },
   "file_extension": ".py",
   "mimetype": "text/x-python",
   "name": "python",
   "nbconvert_exporter": "python",
   "pygments_lexer": "ipython3",
   "version": "3.12.2"
  }
 },
 "nbformat": 4,
 "nbformat_minor": 5
}
